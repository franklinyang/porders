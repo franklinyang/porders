{
 "cells": [
  {
   "cell_type": "code",
   "execution_count": 3,
   "metadata": {
    "collapsed": true
   },
   "outputs": [],
   "source": [
    "import csv\n",
    "from datetime import datetime\n",
    "import json\n",
    "import os\n",
    "\n",
    "import gspread\n",
    "from oauth2client.service_account import ServiceAccountCredentials\n",
    "import pandas as pd\n",
    "import requests\n",
    "\n",
    "from create_orders import Order"
   ]
  },
  {
   "cell_type": "code",
   "execution_count": 6,
   "metadata": {
    "collapsed": false
   },
   "outputs": [],
   "source": [
    "SHOPIFY_HOST = \"https://pinatas.myshopify.com\"\n",
    "TURK_INPUT_CSV_PATH = 'turk_data/unprocessed_orders.csv'\n",
    "TURK_OUTPUT_CSV_PATH = 'turk_data/output.csv'\n",
    "SERVICE_CREDENTIALS_PATH = os.path.expanduser('~/Dropbox/Solid Internet Properties/sheets_api_creds.json')\n",
    "SHOPIFY_CREDS_PATH = os.path.expanduser('~/Dropbox/Solid Internet Properties/shopify_api_creds.json')\n",
    "with open(SHOPIFY_CREDS_PATH, 'r') as f:\n",
    "    SHOPIFY_CREDS = json.load(f)"
   ]
  },
  {
   "cell_type": "code",
   "execution_count": 11,
   "metadata": {
    "collapsed": false
   },
   "outputs": [],
   "source": [
    "# Shopify API Calls\n",
    "def get_latest_orders():\n",
    "    orders = \"/admin/orders.json?\"\n",
    "    unshipped = \"fulfillment_status=unshipped\"\n",
    "    id_cutoff = \"since_id=508081307766\"\n",
    "\n",
    "    response = requests.get(SHOPIFY_HOST + orders + id_cutoff + \"&\" + unshipped,\n",
    "                            auth=(SHOPIFY_CREDS[\"API_KEY\"],\n",
    "                                  SHOPIFY_CREDS[\"API_PASSWORD\"]))\n",
    "    orders = json.loads(response.text)[\"orders\"]\n",
    "    return orders\n",
    "    \n",
    "def get_product_img(product_id):\n",
    "    product_img_url = \"/admin/products/\" + str(product_id) + \"/images.json\"\n",
    "    response = requests.get(SHOPIFY_HOST + product_img_url,\n",
    "                            auth=(SHOPIFY_CREDS[\"API_KEY\"],\n",
    "                                  SHOPIFY_CREDS[\"API_PASSWORD\"]))\n",
    "    prod = json.loads(response.text)[\"images\"]\n",
    "    if len(prod) > 0:\n",
    "        return prod[0][\"src\"]\n",
    "    else:\n",
    "        return None\n",
    "\n",
    "def get_product(product_id):\n",
    "    product_img_url = \"/admin/products/\" + str(product_id) + \".json\"\n",
    "    response = requests.get(SHOPIFY_HOST + product_img_url,\n",
    "                            auth=(SHOPIFY_CREDS[\"API_KEY\"],\n",
    "                                  SHOPIFY_CREDS[\"API_PASSWORD\"]))\n",
    "    prod = json.loads(response.text)[\"product\"]\n",
    "    return prod"
   ]
  },
  {
   "cell_type": "code",
   "execution_count": 12,
   "metadata": {
    "collapsed": true
   },
   "outputs": [],
   "source": [
    "def process_order_turk(order):\n",
    "    order_obj = {}\n",
    "    shipping_addr = order[\"shipping_address\"]\n",
    "    order_obj[\"shipping_city\"] = shipping_addr[\"city\"]\n",
    "    order_obj[\"shipping_state\"] = shipping_addr[\"province\"]\n",
    "    order_obj[\"shipping_zip\"] = shipping_addr[\"zip\"]\n",
    "    order_obj[\"additional_notes\"] = order[\"note\"].replace(\"\\r\\n\", \" <NEW_LINE> \").encode('utf-8')\n",
    "    for note_attr in order[\"note_attributes\"]:\n",
    "        if note_attr[\"name\"] == \"date\":\n",
    "            order_obj[\"party_date_parsed\"] = note_attr[\"value\"]\n",
    "\n",
    "    # get img paths\n",
    "    for item in order[\"line_items\"]:\n",
    "        img = get_product_img(item[\"product_id\"])\n",
    "        item[\"img\"] = img if img else \"\"\n",
    "\n",
    "    order_obj[\"items\"] = json.dumps(order[\"line_items\"]).replace(\"\\r\\n\", \" <NEW_LINE> \").encode('utf-8')\n",
    "    return order_obj"
   ]
  },
  {
   "cell_type": "code",
   "execution_count": 13,
   "metadata": {
    "collapsed": false
   },
   "outputs": [],
   "source": [
    "def write_orders_to_csv(orders, path):\n",
    "    processed_orders = [process_order_turk(order) for order in orders]\n",
    "    fieldnames = processed_orders[0].keys()\n",
    "    with open(path, 'w') as csvfile:\n",
    "        writer = csv.DictWriter(csvfile, fieldnames=fieldnames)\n",
    "        writer.writeheader()\n",
    "        writer.writerows(processed_orders)"
   ]
  },
  {
   "cell_type": "markdown",
   "metadata": {},
   "source": [
    "# Sheets"
   ]
  },
  {
   "cell_type": "code",
   "execution_count": 4,
   "metadata": {
    "collapsed": false
   },
   "outputs": [],
   "source": [
    "def get_orders_sheet():\n",
    "    # use creds to create a client to interact with the Google Drive API\n",
    "    scope = ['https://spreadsheets.google.com/feeds', 'https://www.googleapis.com/auth/drive']\n",
    "    creds = ServiceAccountCredentials.from_json_keyfile_name(SERVICE_CREDENTIALS_PATH, scope)\n",
    "    client = gspread.authorize(creds)\n",
    "\n",
    "    # Find a workbook by name and open the first sheet\n",
    "    # Make sure you use the right name here.\n",
    "    sheet = client.open(\"Pinata Invoices\").sheet1\n",
    "    return sheet\n",
    "\n",
    "def get_next_row_idx(sheet):\n",
    "    col_vals = sheet.col_values(1)\n",
    "    for (i, val) in enumerate(reversed(col_vals)):\n",
    "        if val == '':\n",
    "            pass\n",
    "        else:\n",
    "            break\n",
    "    return len(col_vals[:-1*i]) + 1\n",
    "\n",
    "def write_order_to_sheets(sheet, order):\n",
    "    cells = [\n",
    "        (1, datetime.today().strftime(\"%m/%d/%Y\")) # Today\n",
    "        , (2, order.qty) # Qty\n",
    "        , (3, order.pinata) # Pinata\n",
    "        , (4, 1 if order.busters == \"YES\" else 0) # Buster\n",
    "        , (5, 1 if order.blindfolds == \"YES\" else 0) # Blindfold\n",
    "        , (6, 1 if order.pullstrings == \"YES\" else 0) # Pullstring\n",
    "        , (7, 1 if order.rushed == \"YES\" else 0) # Rushed\n",
    "        , (8, 1 if order.pictures == \"YES\" else 0) # Pictures\n",
    "        , (9, order.size) # Size\n",
    "        , (10, order.notes) # Notes\n",
    "        , (12, order.ship_by) # Ship By\n",
    "        , (13, order.party_date) # Party Date\n",
    "    ]\n",
    "    row_idx = get_next_row_idx(sheet)\n",
    "    for (col, val) in cells:\n",
    "        sheet.update_cell(row_idx,col,str(val))"
   ]
  },
  {
   "cell_type": "code",
   "execution_count": 17,
   "metadata": {
    "collapsed": false
   },
   "outputs": [
    {
     "name": "stdout",
     "output_type": "stream",
     "text": [
      "34\n"
     ]
    }
   ],
   "source": [
    "x = ['04/23/2018', '04/23/2018', '04/26/2018', '04/26/2018', '04/26/2018', '05/02/2018', '05/02/2018', '05/02/2018', '05/08/2018', '05/08/2018', '05/08/2018', '05/08/2018', '05/08/2018', '05/08/2018', '05/08/2018', '05/08/2018', '05/08/2018', '05/15/2018', '05/15/2018', '05/15/2018', '05/17/2018', '05/17/2018', '05/17/2018', '05/17/2018', '05/22/2018', '05/22/2018', '5/22/2018', '5/29/2018', '5/29/2018', '5/29/2018', '5/30/2018', '05/30/2018', '6/4/2018', '06/06/2018', '', '', '', '', '', '', '', '', '', '', '', '', '', '', '', '', '', '', '', '', '', '', '', '', '', '', '', '', '', '', '', '', '', '', '', '', '', '', '', '', '', '', '', '', '', '', '', '', '', '', '', '', '', '', '', '', '', '', '', '', '', '', '', '', '', '', '', '', '', '', '', '', '', '', '', '', '', '', '', '', '', '', '', '', '', '', '', '', '', '', '', '', '', '', '']\n",
    "\n"
   ]
  },
  {
   "cell_type": "markdown",
   "metadata": {},
   "source": [
    "# Put It Together"
   ]
  },
  {
   "cell_type": "code",
   "execution_count": 15,
   "metadata": {
    "collapsed": false
   },
   "outputs": [],
   "source": [
    "def write_processed_orders(path):\n",
    "    sheet = get_orders_sheet()\n",
    "    turk_out = pd.read_csv(path)\n",
    "    for (idx, dfrow) in turk_out.iterrows():\n",
    "        row = dfrow.to_dict()\n",
    "        row[\"ship_by\"] = datetime.strptime(row[\"ship_by\"], \"%Y-%m-%d\").strftime(\"%m/%d/%Y\")\n",
    "        row[\"party_date\"] = datetime.strptime(row[\"party_date\"], \"%Y-%m-%d\").strftime(\"%m/%d/%Y\")\n",
    "        row[\"notes\"] = row[\"notes\"].replace(\"<NEW_LINE>\", \"\\n\") if type(row[\"notes\"]) == \"str\" else \"\"\n",
    "        row[\"pictures\"] = 0\n",
    "        order = Order(row)\n",
    "        write_order_to_sheets(sheet, order)\n",
    "        order.print_order()"
   ]
  },
  {
   "cell_type": "code",
   "execution_count": 16,
   "metadata": {
    "collapsed": false
   },
   "outputs": [],
   "source": [
    "# Get latest orders\n",
    "orders = get_latest_orders()\n",
    "write_orders_to_csv(orders, TURK_INPUT_CSV_PATH)"
   ]
  },
  {
   "cell_type": "code",
   "execution_count": 17,
   "metadata": {
    "collapsed": false
   },
   "outputs": [
    {
     "name": "stdout",
     "output_type": "stream",
     "text": [
      "\n",
      "Hi Blanca - Here is an order for:\n",
      "\n",
      "PINATA(S): (1) The Best Custom Pinata\n",
      "NOTES: \n",
      "PULL STRING: NO\n",
      "BOX SIZE: 48x24x12\n",
      "SHIP BY: 06/22/2018 '- party date is: ' 07/20/2018\n",
      "BUSTER: NO\n",
      "BLINDFOLD: NO\n",
      "PICTURE: NO\n",
      "PRICE: 24.5\n",
      "\n"
     ]
    }
   ],
   "source": [
    "# Write orders to sheets and print email text\n",
    "write_processed_orders(TURK_OUTPUT_CSV_PATH)"
   ]
  }
 ],
 "metadata": {
  "kernelspec": {
   "display_name": "Python 2",
   "language": "python",
   "name": "python2"
  },
  "language_info": {
   "codemirror_mode": {
    "name": "ipython",
    "version": 2
   },
   "file_extension": ".py",
   "mimetype": "text/x-python",
   "name": "python",
   "nbconvert_exporter": "python",
   "pygments_lexer": "ipython2",
   "version": "2.7.12"
  }
 },
 "nbformat": 4,
 "nbformat_minor": 0
}
