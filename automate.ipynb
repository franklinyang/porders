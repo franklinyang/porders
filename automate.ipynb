{
 "cells": [
  {
   "cell_type": "code",
   "execution_count": 97,
   "metadata": {
    "collapsed": true
   },
   "outputs": [],
   "source": [
    "from datetime import datetime\n",
    "import json\n",
    "import os\n",
    "import requests"
   ]
  },
  {
   "cell_type": "code",
   "execution_count": 101,
   "metadata": {
    "collapsed": true
   },
   "outputs": [],
   "source": [
    "with open(os.path.expanduser('~/Dropbox/Solid Internet Properties/shopify_api_creds.json'), 'r') as f:\n",
    "    api_creds = json.load(f)\n",
    "HOST = \"https://pinatas.myshopify.com\"\n",
    "orders = \"/admin/orders.json?\"\n",
    "unshipped = \"fulfillment_status=unshipped\"\n",
    "\n",
    "response = requests.get(HOST + orders,\n",
    "                        auth=(api_creds[\"API_KEY\"],\n",
    "                              api_creds[\"API_PASSWORD\"]))"
   ]
  },
  {
   "cell_type": "code",
   "execution_count": 102,
   "metadata": {
    "collapsed": false
   },
   "outputs": [],
   "source": [
    "orders = json.loads(response.text)[\"orders\"]"
   ]
  },
  {
   "cell_type": "code",
   "execution_count": 103,
   "metadata": {
    "collapsed": false
   },
   "outputs": [],
   "source": [
    "def parse_order(order):\n",
    "\n",
    "    order_obj = {\n",
    "        \"date\": datetime.today().strftime(\"%m/%d/%Y\"),\n",
    "        \"qty\": None,\n",
    "        \"pinata\": None,\n",
    "        \"busters\": None,\n",
    "        \"blindfolds\": None,\n",
    "        \"pullstrings\": None,\n",
    "        \"rushed\": None,\n",
    "        \"pictures\": None,\n",
    "        \"size\": None,\n",
    "        \"pinata_notes\": None,\n",
    "        \"additional_notes\": None, # TODO: what's the difference?\n",
    "        \"price\": None,\n",
    "        \"party_date\": None\n",
    "    }\n",
    "\n",
    "    order_obj[\"additional_notes\"] = order[\"note\"]\n",
    "    for note_attr in order[\"note_attributes\"]:\n",
    "        if note_attr[\"name\"] == \"date\":\n",
    "            order_obj[\"party_date\"] = note_attr[\"value\"]\n",
    "\n",
    "    for item in order['line_items']:\n",
    "        if item['title'] == \"The Best Custom Pinata\":\n",
    "            order_obj[\"qty\"] = item['quantity']\n",
    "            order_obj[\"size\"] = item[\"variant_title\"]\n",
    "            for prop in item[\"properties\"]:\n",
    "                if prop[\"name\"] == \"image\":\n",
    "                    order_obj[\"pictures\"] = prop[\"value\"]\n",
    "                elif prop[\"name\"] == \"description\":\n",
    "                    order_obj[\"pinata_notes\"] = prop[\"value\"]\n",
    "\n",
    "        elif item[\"title\"] == \"Buster Bat Only\":\n",
    "            order_obj[\"busters\"] = item['quantity']\n",
    "\n",
    "        elif item[\"title\"] == \"Pinata Buster and Blindfold Combo\":\n",
    "            order_obj[\"busters\"] = item['quantity']\n",
    "            order_obj[\"blindfolds\"] = item['quantity']\n",
    "            \n",
    "        else:\n",
    "            print \"\\nMISSED ITEM: \" + str(item[\"name\"])\n",
    "            print json.dumps(item, indent=2)\n",
    "\n",
    "    return order_obj"
   ]
  },
  {
   "cell_type": "code",
   "execution_count": 107,
   "metadata": {
    "collapsed": false
   },
   "outputs": [],
   "source": [
    "order = orders[0]\n",
    "#parse_order(order)"
   ]
  }
 ],
 "metadata": {
  "kernelspec": {
   "display_name": "Python 2",
   "language": "python",
   "name": "python2"
  },
  "language_info": {
   "codemirror_mode": {
    "name": "ipython",
    "version": 2
   },
   "file_extension": ".py",
   "mimetype": "text/x-python",
   "name": "python",
   "nbconvert_exporter": "python",
   "pygments_lexer": "ipython2",
   "version": "2.7.12"
  }
 },
 "nbformat": 4,
 "nbformat_minor": 0
}
